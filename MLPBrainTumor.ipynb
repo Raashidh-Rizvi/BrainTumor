{
  "nbformat": 4,
  "nbformat_minor": 0,
  "metadata": {
    "colab": {
      "provenance": [],
      "authorship_tag": "ABX9TyPSp0Hdm+bwmS8/7kBLUM+7",
      "include_colab_link": true
    },
    "kernelspec": {
      "name": "python3",
      "display_name": "Python 3"
    },
    "language_info": {
      "name": "python"
    }
  },
  "cells": [
    {
      "cell_type": "markdown",
      "metadata": {
        "id": "view-in-github",
        "colab_type": "text"
      },
      "source": [
        "<a href=\"https://colab.research.google.com/github/Raashidh-Rizvi/BrainTumor/blob/main/MLPBrainTumor.ipynb\" target=\"_parent\"><img src=\"https://colab.research.google.com/assets/colab-badge.svg\" alt=\"Open In Colab\"/></a>"
      ]
    },
    {
      "cell_type": "code",
      "source": [
        "!git clone https://github.com/Raashidh-Rizvi/Brain-Tumor-Detection.git"
      ],
      "metadata": {
        "colab": {
          "base_uri": "https://localhost:8080/"
        },
        "id": "6nSWjtG6n3fw",
        "outputId": "8330591b-8f61-45c8-d9d0-25586f3c207d"
      },
      "execution_count": 1,
      "outputs": [
        {
          "output_type": "stream",
          "name": "stdout",
          "text": [
            "Cloning into 'Brain-Tumor-Detection'...\n",
            "remote: Enumerating objects: 6932, done.\u001b[K\n",
            "remote: Counting objects: 100% (172/172), done.\u001b[K\n",
            "remote: Compressing objects: 100% (164/164), done.\u001b[K\n",
            "remote: Total 6932 (delta 60), reused 16 (delta 2), pack-reused 6760 (from 3)\u001b[K\n",
            "Receiving objects: 100% (6932/6932), 152.08 MiB | 15.38 MiB/s, done.\n",
            "Resolving deltas: 100% (63/63), done.\n",
            "Updating files: 100% (7042/7042), done.\n"
          ]
        }
      ]
    },
    {
      "cell_type": "code",
      "metadata": {
        "colab": {
          "base_uri": "https://localhost:8080/"
        },
        "id": "852402ec",
        "outputId": "934e739c-aa60-466a-d4a7-d892621d857d"
      },
      "source": [
        "!pip install --upgrade scikit-learn"
      ],
      "execution_count": 2,
      "outputs": [
        {
          "output_type": "stream",
          "name": "stdout",
          "text": [
            "Requirement already satisfied: scikit-learn in /usr/local/lib/python3.12/dist-packages (1.6.1)\n",
            "Collecting scikit-learn\n",
            "  Downloading scikit_learn-1.7.2-cp312-cp312-manylinux2014_x86_64.manylinux_2_17_x86_64.whl.metadata (11 kB)\n",
            "Requirement already satisfied: numpy>=1.22.0 in /usr/local/lib/python3.12/dist-packages (from scikit-learn) (2.0.2)\n",
            "Requirement already satisfied: scipy>=1.8.0 in /usr/local/lib/python3.12/dist-packages (from scikit-learn) (1.16.2)\n",
            "Requirement already satisfied: joblib>=1.2.0 in /usr/local/lib/python3.12/dist-packages (from scikit-learn) (1.5.2)\n",
            "Requirement already satisfied: threadpoolctl>=3.1.0 in /usr/local/lib/python3.12/dist-packages (from scikit-learn) (3.6.0)\n",
            "Downloading scikit_learn-1.7.2-cp312-cp312-manylinux2014_x86_64.manylinux_2_17_x86_64.whl (9.5 MB)\n",
            "\u001b[2K   \u001b[90m━━━━━━━━━━━━━━━━━━━━━━━━━━━━━━━━━━━━━━━━\u001b[0m \u001b[32m9.5/9.5 MB\u001b[0m \u001b[31m89.1 MB/s\u001b[0m eta \u001b[36m0:00:00\u001b[0m\n",
            "\u001b[?25hInstalling collected packages: scikit-learn\n",
            "  Attempting uninstall: scikit-learn\n",
            "    Found existing installation: scikit-learn 1.6.1\n",
            "    Uninstalling scikit-learn-1.6.1:\n",
            "      Successfully uninstalled scikit-learn-1.6.1\n",
            "Successfully installed scikit-learn-1.7.2\n"
          ]
        }
      ]
    },
    {
      "cell_type": "code",
      "metadata": {
        "colab": {
          "base_uri": "https://localhost:8080/"
        },
        "id": "52335dc7",
        "outputId": "e81043e9-6ac5-4822-83af-cdb934c88552"
      },
      "source": [
        "!pip install scikeras"
      ],
      "execution_count": 3,
      "outputs": [
        {
          "output_type": "stream",
          "name": "stdout",
          "text": [
            "Collecting scikeras\n",
            "  Downloading scikeras-0.13.0-py3-none-any.whl.metadata (3.1 kB)\n",
            "Requirement already satisfied: keras>=3.2.0 in /usr/local/lib/python3.12/dist-packages (from scikeras) (3.10.0)\n",
            "Requirement already satisfied: scikit-learn>=1.4.2 in /usr/local/lib/python3.12/dist-packages (from scikeras) (1.7.2)\n",
            "Requirement already satisfied: absl-py in /usr/local/lib/python3.12/dist-packages (from keras>=3.2.0->scikeras) (1.4.0)\n",
            "Requirement already satisfied: numpy in /usr/local/lib/python3.12/dist-packages (from keras>=3.2.0->scikeras) (2.0.2)\n",
            "Requirement already satisfied: rich in /usr/local/lib/python3.12/dist-packages (from keras>=3.2.0->scikeras) (13.9.4)\n",
            "Requirement already satisfied: namex in /usr/local/lib/python3.12/dist-packages (from keras>=3.2.0->scikeras) (0.1.0)\n",
            "Requirement already satisfied: h5py in /usr/local/lib/python3.12/dist-packages (from keras>=3.2.0->scikeras) (3.15.0)\n",
            "Requirement already satisfied: optree in /usr/local/lib/python3.12/dist-packages (from keras>=3.2.0->scikeras) (0.17.0)\n",
            "Requirement already satisfied: ml-dtypes in /usr/local/lib/python3.12/dist-packages (from keras>=3.2.0->scikeras) (0.5.3)\n",
            "Requirement already satisfied: packaging in /usr/local/lib/python3.12/dist-packages (from keras>=3.2.0->scikeras) (25.0)\n",
            "Requirement already satisfied: scipy>=1.8.0 in /usr/local/lib/python3.12/dist-packages (from scikit-learn>=1.4.2->scikeras) (1.16.2)\n",
            "Requirement already satisfied: joblib>=1.2.0 in /usr/local/lib/python3.12/dist-packages (from scikit-learn>=1.4.2->scikeras) (1.5.2)\n",
            "Requirement already satisfied: threadpoolctl>=3.1.0 in /usr/local/lib/python3.12/dist-packages (from scikit-learn>=1.4.2->scikeras) (3.6.0)\n",
            "Requirement already satisfied: typing-extensions>=4.6.0 in /usr/local/lib/python3.12/dist-packages (from optree->keras>=3.2.0->scikeras) (4.15.0)\n",
            "Requirement already satisfied: markdown-it-py>=2.2.0 in /usr/local/lib/python3.12/dist-packages (from rich->keras>=3.2.0->scikeras) (4.0.0)\n",
            "Requirement already satisfied: pygments<3.0.0,>=2.13.0 in /usr/local/lib/python3.12/dist-packages (from rich->keras>=3.2.0->scikeras) (2.19.2)\n",
            "Requirement already satisfied: mdurl~=0.1 in /usr/local/lib/python3.12/dist-packages (from markdown-it-py>=2.2.0->rich->keras>=3.2.0->scikeras) (0.1.2)\n",
            "Downloading scikeras-0.13.0-py3-none-any.whl (26 kB)\n",
            "Installing collected packages: scikeras\n",
            "Successfully installed scikeras-0.13.0\n"
          ]
        }
      ]
    },
    {
      "cell_type": "code",
      "execution_count": 4,
      "metadata": {
        "colab": {
          "base_uri": "https://localhost:8080/"
        },
        "id": "OP_bDnh0OkLO",
        "outputId": "4cf7ff56-70c5-4f58-e57d-a73b2510e9c3"
      },
      "outputs": [
        {
          "output_type": "stream",
          "name": "stdout",
          "text": [
            "fatal: destination path 'Brain-Tumor-Detection' already exists and is not an empty directory.\n"
          ]
        },
        {
          "output_type": "stream",
          "name": "stderr",
          "text": [
            "Processing train/notumor: 100%|██████████| 1595/1595 [00:01<00:00, 860.04it/s]\n",
            "Processing train/glioma: 100%|██████████| 1321/1321 [00:03<00:00, 386.83it/s]\n",
            "Processing train/meningioma: 100%|██████████| 1339/1339 [00:02<00:00, 479.45it/s]\n",
            "Processing train/pituitary: 100%|██████████| 1457/1457 [00:03<00:00, 411.01it/s]\n",
            "Processing test/notumor: 100%|██████████| 405/405 [00:00<00:00, 801.71it/s]\n",
            "Processing test/glioma: 100%|██████████| 300/300 [00:00<00:00, 471.95it/s]\n",
            "Processing test/meningioma: 100%|██████████| 306/306 [00:00<00:00, 658.61it/s]\n",
            "Processing test/pituitary: 100%|██████████| 300/300 [00:00<00:00, 466.16it/s]"
          ]
        },
        {
          "output_type": "stream",
          "name": "stdout",
          "text": [
            "Preprocessing and saving done!\n"
          ]
        },
        {
          "output_type": "stream",
          "name": "stderr",
          "text": [
            "\n"
          ]
        }
      ],
      "source": [
        "import os\n",
        "import cv2\n",
        "from tqdm import tqdm\n",
        "\n",
        "\n",
        "!git clone https://github.com/Raashidh-Rizvi/Brain-Tumor-Detection.git\n",
        "\n",
        "# Step 2: Define Dataset Paths\n",
        "\n",
        "# Parameters\n",
        "img_size = 64\n",
        "input_base_dirs = {\n",
        "    \"train\": \"/content/Brain-Tumor-Detection/data/Training\",\n",
        "    \"test\": \"/content/Brain-Tumor-Detection/data/Testing\"\n",
        "}\n",
        "output_base_dir = \"/content/Brain-Tumor-Detection/data/preprocessed_data/preprocessedForMLP\"\n",
        "\n",
        "# Make sure the output folders exist\n",
        "for split in input_base_dirs:\n",
        "    # Ensure the input directory exists before listing its contents\n",
        "    if not os.path.exists(input_base_dirs[split]):\n",
        "        print(f\"Input directory not found: {input_base_dirs[split]}\")\n",
        "        continue # Skip to the next split if directory is not found\n",
        "\n",
        "    for class_name in os.listdir(input_base_dirs[split]):\n",
        "        in_class_dir = os.path.join(input_base_dirs[split], class_name)\n",
        "        out_class_dir = os.path.join(output_base_dir, split, class_name)\n",
        "        os.makedirs(out_class_dir, exist_ok=True)\n",
        "\n",
        "        # List all image files\n",
        "        img_files = [\n",
        "            f for f in os.listdir(in_class_dir)\n",
        "            if f.lower().endswith(('.png', '.jpg', '.jpeg'))\n",
        "        ]\n",
        "        for img_file in tqdm(img_files, desc=f\"Processing {split}/{class_name}\"):\n",
        "            img_path = os.path.join(in_class_dir, img_file)\n",
        "            out_path = os.path.join(out_class_dir, img_file.replace('.jpg', '.png').replace('.jpeg', '.png'))\n",
        "\n",
        "            # Read, preprocess, and save\n",
        "            img = cv2.imread(img_path, cv2.IMREAD_GRAYSCALE)\n",
        "            img = cv2.resize(img, (img_size, img_size))\n",
        "            img = img / 255.0  # Normalize\n",
        "            img = (img * 255).astype('uint8')  # Convert back to 0-255 for saving as image\n",
        "\n",
        "            cv2.imwrite(out_path, img)\n",
        "\n",
        "print(\"Preprocessing and saving done!\")"
      ]
    },
    {
      "cell_type": "code",
      "source": [
        "import os\n",
        "import cv2\n",
        "import numpy as np\n",
        "\n",
        "# 1. DATA PREPROCESSING: Load images, flatten, save as numpy arrays\n",
        "img_size = 64\n",
        "input_dirs = {\n",
        "    \"train\": \"/content/Brain-Tumor-Detection/data/preprocessed_data/preprocessedForMLP/train\",\n",
        "    \"test\": \"/content/Brain-Tumor-Detection/data/preprocessed_data/preprocessedForMLP/test\"\n",
        "}\n",
        "output_dir = \"/content/Brain-Tumor-Detection/data/preprocessed_data/preprocessedForMLP_numpy\"\n",
        "os.makedirs(output_dir, exist_ok=True)\n",
        "\n",
        "for split in input_dirs:\n",
        "    all_images = []\n",
        "    all_labels = []\n",
        "    class_names = sorted([\n",
        "        d for d in os.listdir(input_dirs[split])\n",
        "        if os.path.isdir(os.path.join(input_dirs[split], d))\n",
        "    ])\n",
        "    for idx, class_name in enumerate(class_names):\n",
        "        class_dir = os.path.join(input_dirs[split], class_name)\n",
        "        for img_file in os.listdir(class_dir):\n",
        "            if img_file.lower().endswith(('.png', '.jpg', '.jpeg')):\n",
        "                img_path = os.path.join(class_dir, img_file)\n",
        "                img = cv2.imread(img_path, cv2.IMREAD_GRAYSCALE)\n",
        "                img = cv2.resize(img, (img_size, img_size))\n",
        "                img = img / 255.0\n",
        "                img_flat = img.flatten()\n",
        "                all_images.append(img_flat)\n",
        "                all_labels.append(idx)\n",
        "    # Save as numpy arrays\n",
        "    X_path = os.path.join(output_dir, f\"X_{split}.npy\")\n",
        "    y_path = os.path.join(output_dir, f\"y_{split}.npy\")\n",
        "    np.save(X_path, np.array(all_images))\n",
        "    np.save(y_path, np.array(all_labels))\n",
        "    print(f\"Saved {split} split: {X_path}, {y_path}\")\n",
        "\n",
        "print(f\"Files in output_dir ({output_dir}):\", os.listdir(output_dir))"
      ],
      "metadata": {
        "colab": {
          "base_uri": "https://localhost:8080/"
        },
        "id": "w8GPdyU6rouY",
        "outputId": "0c710ee8-5778-4172-fa4d-62a0577cd7d5"
      },
      "execution_count": 5,
      "outputs": [
        {
          "output_type": "stream",
          "name": "stdout",
          "text": [
            "Saved train split: /content/Brain-Tumor-Detection/data/preprocessed_data/preprocessedForMLP_numpy/X_train.npy, /content/Brain-Tumor-Detection/data/preprocessed_data/preprocessedForMLP_numpy/y_train.npy\n",
            "Saved test split: /content/Brain-Tumor-Detection/data/preprocessed_data/preprocessedForMLP_numpy/X_test.npy, /content/Brain-Tumor-Detection/data/preprocessed_data/preprocessedForMLP_numpy/y_test.npy\n",
            "Files in output_dir (/content/Brain-Tumor-Detection/data/preprocessed_data/preprocessedForMLP_numpy): ['y_test.npy', 'X_test.npy', 'y_train.npy', 'X_train.npy']\n"
          ]
        }
      ]
    },
    {
      "cell_type": "code",
      "source": [
        "# 2. LOAD PREPROCESSED DATA with robust file existence check\n",
        "def load_array(path):\n",
        "    if not os.path.exists(path):\n",
        "        raise FileNotFoundError(f\"File not found: {path}\")\n",
        "    return np.load(path)\n",
        "\n",
        "X_train_path = os.path.join(output_dir, 'X_train.npy')\n",
        "y_train_path = os.path.join(output_dir, 'y_train.npy')\n",
        "X_test_path = os.path.join(output_dir, 'X_test.npy')\n",
        "y_test_path = os.path.join(output_dir, 'y_test.npy')\n",
        "\n",
        "print(\"Checking files before loading...\")\n",
        "for path in [X_train_path, y_train_path, X_test_path, y_test_path]:\n",
        "    print(f\"{path}: {'Found' if os.path.exists(path) else 'Missing'}\")\n",
        "\n",
        "X = load_array(X_train_path)\n",
        "y = load_array(y_train_path)\n",
        "X_test = load_array(X_test_path)\n",
        "y_test = load_array(y_test_path)\n"
      ],
      "metadata": {
        "colab": {
          "base_uri": "https://localhost:8080/"
        },
        "id": "mtNVHh_Drp7-",
        "outputId": "beb50c3d-4ad2-4662-deaa-cde55b9c9c0c"
      },
      "execution_count": 6,
      "outputs": [
        {
          "output_type": "stream",
          "name": "stdout",
          "text": [
            "Checking files before loading...\n",
            "/content/Brain-Tumor-Detection/data/preprocessed_data/preprocessedForMLP_numpy/X_train.npy: Found\n",
            "/content/Brain-Tumor-Detection/data/preprocessed_data/preprocessedForMLP_numpy/y_train.npy: Found\n",
            "/content/Brain-Tumor-Detection/data/preprocessed_data/preprocessedForMLP_numpy/X_test.npy: Found\n",
            "/content/Brain-Tumor-Detection/data/preprocessed_data/preprocessedForMLP_numpy/y_test.npy: Found\n"
          ]
        }
      ]
    },
    {
      "cell_type": "code",
      "source": [
        "# 3. Train/validation split for parameter tuning\n",
        "from sklearn.model_selection import train_test_split\n",
        "X_train, X_val, y_train, y_val = train_test_split(X, y, test_size=0.2, random_state=42, stratify=y)\n",
        "\n",
        "# 4. PARAMETER TUNING WITH GridSearchCV\n",
        "from scikeras.wrappers import KerasClassifier\n",
        "from tensorflow.keras.models import Sequential\n",
        "from tensorflow.keras.layers import Dense, Dropout\n",
        "from tensorflow.keras.optimizers import Adam\n",
        "from sklearn.model_selection import GridSearchCV\n",
        "\n",
        "def build_model(hidden_units=128, dropout_rate=0.0, learning_rate=0.001):\n",
        "    model = Sequential([\n",
        "        Dense(hidden_units, activation='relu', input_shape=(X_train.shape[1],)),\n",
        "        Dropout(dropout_rate),\n",
        "        Dense(64, activation='relu'),\n",
        "        Dense(4, activation='softmax')\n",
        "    ])\n",
        "    model.compile(\n",
        "        loss='sparse_categorical_crossentropy',\n",
        "        optimizer=Adam(learning_rate=learning_rate),\n",
        "        metrics=['accuracy']\n",
        "    )\n",
        "    return model\n",
        "\n",
        "clf = KerasClassifier(model=build_model, verbose=0)\n",
        "param_grid = {\n",
        "    \"model__hidden_units\": [64, 128, 256],\n",
        "    \"model__dropout_rate\": [0.0, 0.3],\n",
        "    \"model__learning_rate\": [0.001, 0.0005],\n",
        "    \"batch_size\": [32, 64],\n",
        "    \"epochs\": [15, 25]\n",
        "}\n",
        "grid = GridSearchCV(estimator=clf, param_grid=param_grid, cv=3, scoring=\"accuracy\", n_jobs=-1)\n",
        "grid_result = grid.fit(X_train, y_train)"
      ],
      "metadata": {
        "colab": {
          "base_uri": "https://localhost:8080/"
        },
        "id": "mCRevRxPrtVr",
        "outputId": "de6091ba-1d17-4223-a417-3d0695222edc"
      },
      "execution_count": 7,
      "outputs": [
        {
          "output_type": "stream",
          "name": "stderr",
          "text": [
            "/usr/local/lib/python3.12/dist-packages/joblib/externals/loky/process_executor.py:782: UserWarning: A worker stopped while some jobs were given to the executor. This can be caused by a too short worker timeout or by a memory leak.\n",
            "  warnings.warn(\n",
            "/usr/local/lib/python3.12/dist-packages/keras/src/layers/core/dense.py:93: UserWarning: Do not pass an `input_shape`/`input_dim` argument to a layer. When using Sequential models, prefer using an `Input(shape)` object as the first layer in the model instead.\n",
            "  super().__init__(activity_regularizer=activity_regularizer, **kwargs)\n"
          ]
        }
      ]
    },
    {
      "cell_type": "code",
      "source": [
        "import matplotlib.pyplot as plt\n",
        "\n",
        "# Train model using the best parameters found\n",
        "best_params = grid.best_params_\n",
        "print(\"Best Parameters:\", best_params)\n",
        "\n",
        "best_model = build_model(\n",
        "    hidden_units=best_params[\"model__hidden_units\"],\n",
        "    dropout_rate=best_params[\"model__dropout_rate\"],\n",
        "    learning_rate=best_params[\"model__learning_rate\"]\n",
        ")\n",
        "\n",
        "history = best_model.fit(\n",
        "    X_train, y_train,\n",
        "    validation_data=(X_val, y_val),\n",
        "    epochs=best_params[\"epochs\"],\n",
        "    batch_size=best_params[\"batch_size\"],\n",
        "    verbose=1\n",
        ")\n",
        "\n",
        "# ---- Plot Accuracy ----\n",
        "plt.figure(figsize=(10,5))\n",
        "plt.plot(history.history['accuracy'], label='Training Accuracy')\n",
        "plt.plot(history.history['val_accuracy'], label='Validation Accuracy')\n",
        "plt.title('Training vs Validation Accuracy')\n",
        "plt.xlabel('Epoch')\n",
        "plt.ylabel('Accuracy')\n",
        "plt.legend()\n",
        "plt.grid(True)\n",
        "plt.show()\n",
        "\n",
        "# ---- Plot Loss ----\n",
        "plt.figure(figsize=(10,5))\n",
        "plt.plot(history.history['loss'], label='Training Loss')\n",
        "plt.plot(history.history['val_loss'], label='Validation Loss')\n",
        "plt.title('Training vs Validation Loss')\n",
        "plt.xlabel('Epoch')\n",
        "plt.ylabel('Loss')\n",
        "plt.legend()\n",
        "plt.grid(True)\n",
        "plt.show()\n"
      ],
      "metadata": {
        "colab": {
          "base_uri": "https://localhost:8080/",
          "height": 1000
        },
        "id": "G5Jkmg6MLcW0",
        "outputId": "1e05068f-b933-4076-b0fa-45371b0c11b7"
      },
      "execution_count": 8,
      "outputs": [
        {
          "output_type": "stream",
          "name": "stdout",
          "text": [
            "Best Parameters: {'batch_size': 64, 'epochs': 25, 'model__dropout_rate': 0.0, 'model__hidden_units': 128, 'model__learning_rate': 0.001}\n"
          ]
        },
        {
          "output_type": "stream",
          "name": "stderr",
          "text": [
            "/usr/local/lib/python3.12/dist-packages/keras/src/layers/core/dense.py:93: UserWarning: Do not pass an `input_shape`/`input_dim` argument to a layer. When using Sequential models, prefer using an `Input(shape)` object as the first layer in the model instead.\n",
            "  super().__init__(activity_regularizer=activity_regularizer, **kwargs)\n"
          ]
        },
        {
          "output_type": "stream",
          "name": "stdout",
          "text": [
            "Epoch 1/25\n",
            "\u001b[1m72/72\u001b[0m \u001b[32m━━━━━━━━━━━━━━━━━━━━\u001b[0m\u001b[37m\u001b[0m \u001b[1m3s\u001b[0m 21ms/step - accuracy: 0.4809 - loss: 1.1622 - val_accuracy: 0.7227 - val_loss: 0.7532\n",
            "Epoch 2/25\n",
            "\u001b[1m72/72\u001b[0m \u001b[32m━━━━━━━━━━━━━━━━━━━━\u001b[0m\u001b[37m\u001b[0m \u001b[1m1s\u001b[0m 10ms/step - accuracy: 0.7395 - loss: 0.6836 - val_accuracy: 0.7507 - val_loss: 0.6575\n",
            "Epoch 3/25\n",
            "\u001b[1m72/72\u001b[0m \u001b[32m━━━━━━━━━━━━━━━━━━━━\u001b[0m\u001b[37m\u001b[0m \u001b[1m1s\u001b[0m 9ms/step - accuracy: 0.8011 - loss: 0.5451 - val_accuracy: 0.7918 - val_loss: 0.5665\n",
            "Epoch 4/25\n",
            "\u001b[1m72/72\u001b[0m \u001b[32m━━━━━━━━━━━━━━━━━━━━\u001b[0m\u001b[37m\u001b[0m \u001b[1m1s\u001b[0m 10ms/step - accuracy: 0.8464 - loss: 0.4548 - val_accuracy: 0.8066 - val_loss: 0.5727\n",
            "Epoch 5/25\n",
            "\u001b[1m72/72\u001b[0m \u001b[32m━━━━━━━━━━━━━━━━━━━━\u001b[0m\u001b[37m\u001b[0m \u001b[1m1s\u001b[0m 9ms/step - accuracy: 0.8433 - loss: 0.4201 - val_accuracy: 0.8285 - val_loss: 0.4973\n",
            "Epoch 6/25\n",
            "\u001b[1m72/72\u001b[0m \u001b[32m━━━━━━━━━━━━━━━━━━━━\u001b[0m\u001b[37m\u001b[0m \u001b[1m1s\u001b[0m 10ms/step - accuracy: 0.8941 - loss: 0.3112 - val_accuracy: 0.8530 - val_loss: 0.4892\n",
            "Epoch 7/25\n",
            "\u001b[1m72/72\u001b[0m \u001b[32m━━━━━━━━━━━━━━━━━━━━\u001b[0m\u001b[37m\u001b[0m \u001b[1m1s\u001b[0m 10ms/step - accuracy: 0.8938 - loss: 0.3195 - val_accuracy: 0.8521 - val_loss: 0.4566\n",
            "Epoch 8/25\n",
            "\u001b[1m72/72\u001b[0m \u001b[32m━━━━━━━━━━━━━━━━━━━━\u001b[0m\u001b[37m\u001b[0m \u001b[1m1s\u001b[0m 11ms/step - accuracy: 0.9202 - loss: 0.2502 - val_accuracy: 0.8513 - val_loss: 0.4618\n",
            "Epoch 9/25\n",
            "\u001b[1m72/72\u001b[0m \u001b[32m━━━━━━━━━━━━━━━━━━━━\u001b[0m\u001b[37m\u001b[0m \u001b[1m1s\u001b[0m 9ms/step - accuracy: 0.9194 - loss: 0.2380 - val_accuracy: 0.8495 - val_loss: 0.4542\n",
            "Epoch 10/25\n",
            "\u001b[1m72/72\u001b[0m \u001b[32m━━━━━━━━━━━━━━━━━━━━\u001b[0m\u001b[37m\u001b[0m \u001b[1m1s\u001b[0m 11ms/step - accuracy: 0.9292 - loss: 0.2104 - val_accuracy: 0.8609 - val_loss: 0.4673\n",
            "Epoch 11/25\n",
            "\u001b[1m72/72\u001b[0m \u001b[32m━━━━━━━━━━━━━━━━━━━━\u001b[0m\u001b[37m\u001b[0m \u001b[1m1s\u001b[0m 10ms/step - accuracy: 0.9403 - loss: 0.1894 - val_accuracy: 0.8731 - val_loss: 0.4296\n",
            "Epoch 12/25\n",
            "\u001b[1m72/72\u001b[0m \u001b[32m━━━━━━━━━━━━━━━━━━━━\u001b[0m\u001b[37m\u001b[0m \u001b[1m1s\u001b[0m 10ms/step - accuracy: 0.9351 - loss: 0.1933 - val_accuracy: 0.8950 - val_loss: 0.4151\n",
            "Epoch 13/25\n",
            "\u001b[1m72/72\u001b[0m \u001b[32m━━━━━━━━━━━━━━━━━━━━\u001b[0m\u001b[37m\u001b[0m \u001b[1m1s\u001b[0m 10ms/step - accuracy: 0.9636 - loss: 0.1257 - val_accuracy: 0.8915 - val_loss: 0.4066\n",
            "Epoch 14/25\n",
            "\u001b[1m72/72\u001b[0m \u001b[32m━━━━━━━━━━━━━━━━━━━━\u001b[0m\u001b[37m\u001b[0m \u001b[1m1s\u001b[0m 14ms/step - accuracy: 0.9656 - loss: 0.1118 - val_accuracy: 0.8924 - val_loss: 0.3858\n",
            "Epoch 15/25\n",
            "\u001b[1m72/72\u001b[0m \u001b[32m━━━━━━━━━━━━━━━━━━━━\u001b[0m\u001b[37m\u001b[0m \u001b[1m1s\u001b[0m 16ms/step - accuracy: 0.9735 - loss: 0.0915 - val_accuracy: 0.8828 - val_loss: 0.4013\n",
            "Epoch 16/25\n",
            "\u001b[1m72/72\u001b[0m \u001b[32m━━━━━━━━━━━━━━━━━━━━\u001b[0m\u001b[37m\u001b[0m \u001b[1m1s\u001b[0m 13ms/step - accuracy: 0.9691 - loss: 0.1014 - val_accuracy: 0.8941 - val_loss: 0.3816\n",
            "Epoch 17/25\n",
            "\u001b[1m72/72\u001b[0m \u001b[32m━━━━━━━━━━━━━━━━━━━━\u001b[0m\u001b[37m\u001b[0m \u001b[1m1s\u001b[0m 10ms/step - accuracy: 0.9847 - loss: 0.0674 - val_accuracy: 0.8941 - val_loss: 0.4236\n",
            "Epoch 18/25\n",
            "\u001b[1m72/72\u001b[0m \u001b[32m━━━━━━━━━━━━━━━━━━━━\u001b[0m\u001b[37m\u001b[0m \u001b[1m1s\u001b[0m 9ms/step - accuracy: 0.9711 - loss: 0.0803 - val_accuracy: 0.8924 - val_loss: 0.3917\n",
            "Epoch 19/25\n",
            "\u001b[1m72/72\u001b[0m \u001b[32m━━━━━━━━━━━━━━━━━━━━\u001b[0m\u001b[37m\u001b[0m \u001b[1m1s\u001b[0m 10ms/step - accuracy: 0.9852 - loss: 0.0605 - val_accuracy: 0.8994 - val_loss: 0.4147\n",
            "Epoch 20/25\n",
            "\u001b[1m72/72\u001b[0m \u001b[32m━━━━━━━━━━━━━━━━━━━━\u001b[0m\u001b[37m\u001b[0m \u001b[1m1s\u001b[0m 10ms/step - accuracy: 0.9886 - loss: 0.0487 - val_accuracy: 0.9038 - val_loss: 0.4164\n",
            "Epoch 21/25\n",
            "\u001b[1m72/72\u001b[0m \u001b[32m━━━━━━━━━━━━━━━━━━━━\u001b[0m\u001b[37m\u001b[0m \u001b[1m1s\u001b[0m 10ms/step - accuracy: 0.9913 - loss: 0.0398 - val_accuracy: 0.8915 - val_loss: 0.5072\n",
            "Epoch 22/25\n",
            "\u001b[1m72/72\u001b[0m \u001b[32m━━━━━━━━━━━━━━━━━━━━\u001b[0m\u001b[37m\u001b[0m \u001b[1m1s\u001b[0m 9ms/step - accuracy: 0.9836 - loss: 0.0550 - val_accuracy: 0.8950 - val_loss: 0.4355\n",
            "Epoch 23/25\n",
            "\u001b[1m72/72\u001b[0m \u001b[32m━━━━━━━━━━━━━━━━━━━━\u001b[0m\u001b[37m\u001b[0m \u001b[1m1s\u001b[0m 10ms/step - accuracy: 0.9959 - loss: 0.0276 - val_accuracy: 0.8941 - val_loss: 0.4419\n",
            "Epoch 24/25\n",
            "\u001b[1m72/72\u001b[0m \u001b[32m━━━━━━━━━━━━━━━━━━━━\u001b[0m\u001b[37m\u001b[0m \u001b[1m1s\u001b[0m 10ms/step - accuracy: 0.9974 - loss: 0.0222 - val_accuracy: 0.9003 - val_loss: 0.4499\n",
            "Epoch 25/25\n",
            "\u001b[1m72/72\u001b[0m \u001b[32m━━━━━━━━━━━━━━━━━━━━\u001b[0m\u001b[37m\u001b[0m \u001b[1m1s\u001b[0m 10ms/step - accuracy: 0.9982 - loss: 0.0156 - val_accuracy: 0.9011 - val_loss: 0.4546\n"
          ]
        },
        {
          "output_type": "display_data",
          "data": {
            "text/plain": [
              "<Figure size 1000x500 with 1 Axes>"
            ],
            "image/png": "[encoded data removed]"
          },
          "metadata": {}
        },
        {
          "output_type": "display_data",
          "data": {
            "text/plain": [
              "<Figure size 1000x500 with 1 Axes>"
            ],
            "image/png": "[encoded data removed]"
          },
          "metadata": {}
        }
      ]
    },
    {
      "cell_type": "code",
      "source": [
        "from sklearn.model_selection import KFold\n",
        "import numpy as np\n",
        "\n",
        "kf = KFold(n_splits=5, shuffle=True, random_state=42)\n",
        "cv_accuracies = []\n",
        "\n",
        "for fold, (train_idx, val_idx) in enumerate(kf.split(X, y), 1):\n",
        "    print(f\"Training fold {fold}...\")\n",
        "    X_train_fold, X_val_fold = X[train_idx], X[val_idx]\n",
        "    y_train_fold, y_val_fold = y[train_idx], y[val_idx]\n",
        "\n",
        "    model = build_model()  # You can pass tuned parameters here if you want\n",
        "    history = model.fit(X_train_fold, y_train_fold, epochs=20, batch_size=32, verbose=0)\n",
        "\n",
        "    _, val_acc = model.evaluate(X_val_fold, y_val_fold, verbose=0)\n",
        "    cv_accuracies.append(val_acc)\n",
        "    print(f\"Fold {fold} Validation Accuracy: {val_acc:.4f}\")\n",
        "\n",
        "print(\"\\nAverage Cross-Validation Accuracy:\", np.mean(cv_accuracies))\n"
      ],
      "metadata": {
        "colab": {
          "base_uri": "https://localhost:8080/"
        },
        "id": "AdS6t2qpLgTQ",
        "outputId": "0e3f2c11-4119-4353-d203-718fea9c1587"
      },
      "execution_count": 9,
      "outputs": [
        {
          "output_type": "stream",
          "name": "stdout",
          "text": [
            "Training fold 1...\n",
            "Fold 1 Validation Accuracy: 0.9003\n",
            "Training fold 2...\n",
            "Fold 2 Validation Accuracy: 0.8836\n",
            "Training fold 3...\n",
            "Fold 3 Validation Accuracy: 0.8774\n",
            "Training fold 4...\n",
            "Fold 4 Validation Accuracy: 0.8853\n",
            "Training fold 5...\n",
            "Fold 5 Validation Accuracy: 0.9107\n",
            "\n",
            "Average Cross-Validation Accuracy: 0.891456413269043\n"
          ]
        }
      ]
    },
    {
      "cell_type": "code",
      "source": [
        "# 5. REPORT BEST PARAMETERS\n",
        "print(f\"\\nBest Parameters: {grid_result.best_params_}\")\n",
        "print(f\"Best CV Accuracy: {grid_result.best_score_:.4f}\")\n",
        "\n",
        "# 6. TRAIN FINAL MODEL & EVALUATE (test set)\n",
        "best_model = grid_result.best_estimator_\n",
        "y_pred_prob = best_model.predict_proba(X_test)\n",
        "y_pred = np.argmax(y_pred_prob, axis=1)\n",
        "\n",
        "class_names = ['glioma', 'meningioma', 'notumor', 'pituitary']\n"
      ],
      "metadata": {
        "colab": {
          "base_uri": "https://localhost:8080/"
        },
        "id": "HfNRbPq4rwYJ",
        "outputId": "8efdeecb-09ca-43b7-a342-e71842278e8f"
      },
      "execution_count": 10,
      "outputs": [
        {
          "output_type": "stream",
          "name": "stdout",
          "text": [
            "\n",
            "Best Parameters: {'batch_size': 64, 'epochs': 25, 'model__dropout_rate': 0.0, 'model__hidden_units': 128, 'model__learning_rate': 0.001}\n",
            "Best CV Accuracy: 0.8774\n"
          ]
        }
      ]
    },
    {
      "cell_type": "code",
      "metadata": {
        "colab": {
          "base_uri": "https://localhost:8080/",
          "height": 1000
        },
        "id": "af94a412",
        "outputId": "def3bae5-2b59-4d39-fd31-6b8ec1dab4d6"
      },
      "source": [
        "\n",
        "\n",
        "# 7. EVALUATION METRICS & VISUALIZATION\n",
        "import matplotlib.pyplot as plt\n",
        "import seaborn as sns\n",
        "from sklearn.metrics import confusion_matrix, classification_report, f1_score, precision_score, recall_score, roc_auc_score\n",
        "\n",
        "# Confusion Matrix\n",
        "cm = confusion_matrix(y_test, y_pred)\n",
        "plt.figure(figsize=(8,6))\n",
        "sns.heatmap(cm, annot=True, fmt=\"d\", cmap=\"Blues\", xticklabels=class_names, yticklabels=class_names)\n",
        "plt.xlabel('Predicted Label')\n",
        "plt.ylabel('True Label')\n",
        "plt.title('Confusion Matrix')\n",
        "plt.show()\n",
        "\n",
        "# Classification Report\n",
        "report = classification_report(y_test, y_pred, target_names=class_names, digits=3)\n",
        "print(\"\\nClassification Report:\\n\", report)\n",
        "\n",
        "# Macro metrics\n",
        "f1_macro = f1_score(y_test, y_pred, average='macro')\n",
        "precision_macro = precision_score(y_test, y_pred, average='macro')\n",
        "recall_macro = recall_score(y_test, y_pred, average='macro')\n",
        "print(f\"Macro F1 Score: {f1_macro:.3f}\")\n",
        "print(f\"Macro Precision: {precision_macro:.3f}\")\n",
        "print(f\"Macro Recall: {recall_macro:.3f}\")\n",
        "\n",
        "# Per-class F1 bar graph\n",
        "f1_per_class = f1_score(y_test, y_pred, average=None)\n",
        "plt.figure(figsize=(7,4))\n",
        "plt.bar(class_names, f1_per_class, color='skyblue')\n",
        "plt.ylim(0, 1.05)\n",
        "plt.title('Per-Class F1 Scores')\n",
        "plt.ylabel('F1 Score')\n",
        "plt.xlabel('Tumor Type')\n",
        "for i, v in enumerate(f1_per_class):\n",
        "    plt.text(i, v + 0.02, f\"{v:.2f}\", ha='center', fontweight='bold')\n",
        "plt.show()\n",
        "\n",
        "# Optionally, ROC AUC for multiclass (one-vs-rest)\n",
        "try:\n",
        "    roc_auc = roc_auc_score(np.eye(4)[y_test], y_pred_prob, average='macro', multi_class='ovr')\n",
        "    print(f\"Macro ROC AUC: {roc_auc:.3f}\")\n",
        "except Exception as e:\n",
        "    print(\"ROC AUC not available:\", e)\n",
        "\n",
        "\n",
        "\n"
      ],
      "execution_count": 11,
      "outputs": [
        {
          "output_type": "display_data",
          "data": {
            "text/plain": [
              "<Figure size 800x600 with 2 Axes>"
            ],
            "image/png": "[encoded data removed]"
          },
          "metadata": {}
        },
        {
          "output_type": "stream",
          "name": "stdout",
          "text": [
            "\n",
            "Classification Report:\n",
            "               precision    recall  f1-score   support\n",
            "\n",
            "      glioma      0.896     0.863     0.879       300\n",
            "  meningioma      0.836     0.833     0.835       306\n",
            "     notumor      0.968     0.978     0.973       405\n",
            "   pituitary      0.938     0.963     0.951       300\n",
            "\n",
            "    accuracy                          0.915      1311\n",
            "   macro avg      0.910     0.909     0.909      1311\n",
            "weighted avg      0.914     0.915     0.914      1311\n",
            "\n",
            "Macro F1 Score: 0.909\n",
            "Macro Precision: 0.910\n",
            "Macro Recall: 0.909\n"
          ]
        },
        {
          "output_type": "display_data",
          "data": {
            "text/plain": [
              "<Figure size 700x400 with 1 Axes>"
            ],
            "image/png": "[encoded data removed]"
          },
          "metadata": {}
        },
        {
          "output_type": "stream",
          "name": "stdout",
          "text": [
            "Macro ROC AUC: 0.978\n"
          ]
        }
      ]
    },
    {
      "cell_type": "code",
      "source": [
        "import os\n",
        "# 8. SAVE MODEL\n",
        "output_dir = \"/content/Brain-Tumor-Detection/data/preprocessed_data_numpy\"\n",
        "model_save_path = os.path.join(output_dir, \"brain_tumor_mlp_best.h5\")\n",
        "best_model.model_.save(model_save_path)\n",
        "print(f\"Best model saved at {model_save_path}\")"
      ],
      "metadata": {
        "colab": {
          "base_uri": "https://localhost:8080/"
        },
        "id": "Rp9z7VUdsgLw",
        "outputId": "d0c40d6b-079c-4041-e739-63cf48cdd166"
      },
      "execution_count": 12,
      "outputs": [
        {
          "output_type": "stream",
          "name": "stderr",
          "text": [
            "WARNING:absl:You are saving your model as an HDF5 file via `model.save()` or `keras.saving.save_model(model)`. This file format is considered legacy. We recommend using instead the native Keras format, e.g. `model.save('my_model.keras')` or `keras.saving.save_model(model, 'my_model.keras')`. \n"
          ]
        },
        {
          "output_type": "stream",
          "name": "stdout",
          "text": [
            "Best model saved at /content/Brain-Tumor-Detection/data/preprocessed_data_numpy/brain_tumor_mlp_best.h5\n"
          ]
        }
      ]
    },
    {
      "cell_type": "code",
      "source": [
        "# 9. COMPARE WITH A MANUAL MODEL\n",
        "manual_model = Sequential([\n",
        "    Dense(128, activation='relu', input_shape=(X_train.shape[1],)),\n",
        "    Dropout(0.3),\n",
        "    Dense(64, activation='relu'),\n",
        "    Dense(4, activation='softmax')\n",
        "])\n",
        "manual_model.compile(loss='sparse_categorical_crossentropy', optimizer=Adam(learning_rate=0.001), metrics=['accuracy'])\n",
        "manual_model.fit(X_train, y_train, epochs=25, batch_size=32, verbose=0)\n",
        "manual_pred = np.argmax(manual_model.predict(X_test), axis=1)\n",
        "manual_acc = np.mean(manual_pred == y_test)\n",
        "manual_f1 = f1_score(y_test, manual_pred, average='macro')\n",
        "\n",
        "print(f\"\\nManual Model Accuracy: {manual_acc:.3f}\")\n",
        "print(f\"Manual Model Macro F1: {manual_f1:.3f}\")\n",
        "print(f\"GridSearch Best Model Accuracy: {np.mean(y_pred == y_test):.3f}\")\n",
        "print(f\"GridSearch Best Model Macro F1: {f1_macro:.3f}\")"
      ],
      "metadata": {
        "colab": {
          "base_uri": "https://localhost:8080/"
        },
        "id": "_Udy3IIuscSX",
        "outputId": "2bb24b6f-0acc-4744-b616-f73e21e073d2"
      },
      "execution_count": 13,
      "outputs": [
        {
          "output_type": "stream",
          "name": "stderr",
          "text": [
            "/usr/local/lib/python3.12/dist-packages/keras/src/layers/core/dense.py:93: UserWarning: Do not pass an `input_shape`/`input_dim` argument to a layer. When using Sequential models, prefer using an `Input(shape)` object as the first layer in the model instead.\n",
            "  super().__init__(activity_regularizer=activity_regularizer, **kwargs)\n"
          ]
        },
        {
          "output_type": "stream",
          "name": "stdout",
          "text": [
            "\u001b[1m41/41\u001b[0m \u001b[32m━━━━━━━━━━━━━━━━━━━━\u001b[0m\u001b[37m\u001b[0m \u001b[1m0s\u001b[0m 5ms/step\n",
            "\n",
            "Manual Model Accuracy: 0.882\n",
            "Manual Model Macro F1: 0.872\n",
            "GridSearch Best Model Accuracy: 0.915\n",
            "GridSearch Best Model Macro F1: 0.909\n"
          ]
        }
      ]
    },
    {
      "cell_type": "code",
      "source": [],
      "metadata": {
        "id": "Vuc6Mcfl4Kvz"
      },
      "execution_count": 13,
      "outputs": []
    },
    {
      "cell_type": "markdown",
      "source": [
        "# 10. OBSERVATIONS, LIMITATIONS, IMPROVEMENTS\n",
        "\n",
        "Observations:\n",
        "- GridSearchCV tuning improved accuracy and F1 over the manual model.\n",
        "- Some classes have lower F1 due to class imbalance/difficult features.\n",
        "\n",
        "Limitations:\n",
        "- MLPs do not exploit spatial information in images as CNNs do.\n",
        "- Performance is limited by available data and class balance.\n",
        "- Improvements: Try CNN, increase data, use more augmentation, tune further, or use ensemble methods.\n"
      ],
      "metadata": {
        "id": "3bo1rR8MsV-F"
      }
    },
    {
      "cell_type": "code",
      "source": [
        "# 1. Upload image\n",
        "from google.colab import files\n",
        "uploaded = files.upload()  # This prompts you to choose a file\n",
        "\n",
        "import cv2\n",
        "import numpy as np\n",
        "\n",
        "# 2. Preprocess the uploaded image\n",
        "img_size = 64\n",
        "for img_name in uploaded.keys():\n",
        "    img = cv2.imread(img_name, cv2.IMREAD_GRAYSCALE)\n",
        "    img = cv2.resize(img, (img_size, img_size))\n",
        "    img = img / 255.0\n",
        "    img_flat = img.flatten().reshape(1, -1)\n",
        "\n",
        "    # 3. Load your trained model\n",
        "    from tensorflow.keras.models import load_model\n",
        "    model = load_model(\"/content/Brain-Tumor-Detection/data/preprocessed_data/preprocessedForMLP_numpy/brain_tumor_mlp_best.h5\")\n",
        "\n",
        "    # 4. Predict\n",
        "    pred = model.predict(img_flat)\n",
        "    class_names = ['glioma', 'meningioma', 'notumor', 'pituitary']\n",
        "    predicted_class = class_names[np.argmax(pred)]\n",
        "    print(f\"Prediction for {img_name}: {predicted_class}, Probabilities: {pred}\")"
      ],
      "metadata": {
        "id": "xUxP7FzytHVl",
        "colab": {
          "base_uri": "https://localhost:8080/",
          "height": 395
        },
        "outputId": "f18d37cb-91b6-4bcb-a934-8b4770ad53ee"
      },
      "execution_count": 15,
      "outputs": [
        {
          "output_type": "display_data",
          "data": {
            "text/plain": [
              "<IPython.core.display.HTML object>"
            ],
            "text/html": [
              "\n",
              "     <input type=\"file\" id=\"files-ce6d971d-a67e-4a82-8c65-8f6f6e1aa9e5\" name=\"files[]\" multiple disabled\n",
              "        style=\"border:none\" />\n",
              "     <output id=\"result-ce6d971d-a67e-4a82-8c65-8f6f6e1aa9e5\">\n",
              "      Upload widget is only available when the cell has been executed in the\n",
              "      current browser session. Please rerun this cell to enable.\n",
              "      </output>\n",
              "      <script>// Copyright 2017 Google LLC\n",
              "//\n",
              "// Licensed under the Apache License, Version 2.0 (the \"License\");\n",
              "// you may not use this file except in compliance with the License.\n",
              "// You may obtain a copy of the License at\n",
              "//\n",
              "//      http://www.apache.org/licenses/LICENSE-2.0\n",
              "//\n",
              "// Unless required by applicable law or agreed to in writing, software\n",
              "// distributed under the License is distributed on an \"AS IS\" BASIS,\n",
              "// WITHOUT WARRANTIES OR CONDITIONS OF ANY KIND, either express or implied.\n",
              "// See the License for the specific language governing permissions and\n",
              "// limitations under the License.\n",
              "\n",
              "/**\n",
              " * @fileoverview Helpers for google.colab Python module.\n",
              " */\n",
              "(function(scope) {\n",
              "function span(text, styleAttributes = {}) {\n",
              "  const element = document.createElement('span');\n",
              "  element.textContent = text;\n",
              "  for (const key of Object.keys(styleAttributes)) {\n",
              "    element.style[key] = styleAttributes[key];\n",
              "  }\n",
              "  return element;\n",
              "}\n",
              "\n",
              "// Max number of bytes which will be uploaded at a time.\n",
              "const MAX_PAYLOAD_SIZE = 100 * 1024;\n",
              "\n",
              "function _uploadFiles(inputId, outputId) {\n",
              "  const steps = uploadFilesStep(inputId, outputId);\n",
              "  const outputElement = document.getElementById(outputId);\n",
              "  // Cache steps on the outputElement to make it available for the next call\n",
              "  // to uploadFilesContinue from Python.\n",
              "  outputElement.steps = steps;\n",
              "\n",
              "  return _uploadFilesContinue(outputId);\n",
              "}\n",
              "\n",
              "// This is roughly an async generator (not supported in the browser yet),\n",
              "// where there are multiple asynchronous steps and the Python side is going\n",
              "// to poll for completion of each step.\n",
              "// This uses a Promise to block the python side on completion of each step,\n",
              "// then passes the result of the previous step as the input to the next step.\n",
              "function _uploadFilesContinue(outputId) {\n",
              "  const outputElement = document.getElementById(outputId);\n",
              "  const steps = outputElement.steps;\n",
              "\n",
              "  const next = steps.next(outputElement.lastPromiseValue);\n",
              "  return Promise.resolve(next.value.promise).then((value) => {\n",
              "    // Cache the last promise value to make it available to the next\n",
              "    // step of the generator.\n",
              "    outputElement.lastPromiseValue = value;\n",
              "    return next.value.response;\n",
              "  });\n",
              "}\n",
              "\n",
              "/**\n",
              " * Generator function which is called between each async step of the upload\n",
              " * process.\n",
              " * @param {string} inputId Element ID of the input file picker element.\n",
              " * @param {string} outputId Element ID of the output display.\n",
              " * @return {!Iterable<!Object>} Iterable of next steps.\n",
              " */\n",
              "function* uploadFilesStep(inputId, outputId) {\n",
              "  const inputElement = document.getElementById(inputId);\n",
              "  inputElement.disabled = false;\n",
              "\n",
              "  const outputElement = document.getElementById(outputId);\n",
              "  outputElement.innerHTML = '';\n",
              "\n",
              "  const pickedPromise = new Promise((resolve) => {\n",
              "    inputElement.addEventListener('change', (e) => {\n",
              "      resolve(e.target.files);\n",
              "    });\n",
              "  });\n",
              "\n",
              "  const cancel = document.createElement('button');\n",
              "  inputElement.parentElement.appendChild(cancel);\n",
              "  cancel.textContent = 'Cancel upload';\n",
              "  const cancelPromise = new Promise((resolve) => {\n",
              "    cancel.onclick = () => {\n",
              "      resolve(null);\n",
              "    };\n",
              "  });\n",
              "\n",
              "  // Wait for the user to pick the files.\n",
              "  const files = yield {\n",
              "    promise: Promise.race([pickedPromise, cancelPromise]),\n",
              "    response: {\n",
              "      action: 'starting',\n",
              "    }\n",
              "  };\n",
              "\n",
              "  cancel.remove();\n",
              "\n",
              "  // Disable the input element since further picks are not allowed.\n",
              "  inputElement.disabled = true;\n",
              "\n",
              "  if (!files) {\n",
              "    return {\n",
              "      response: {\n",
              "        action: 'complete',\n",
              "      }\n",
              "    };\n",
              "  }\n",
              "\n",
              "  for (const file of files) {\n",
              "    const li = document.createElement('li');\n",
              "    li.append(span(file.name, {fontWeight: 'bold'}));\n",
              "    li.append(span(\n",
              "        `(${file.type || 'n/a'}) - ${file.size} bytes, ` +\n",
              "        `last modified: ${\n",
              "            file.lastModifiedDate ? file.lastModifiedDate.toLocaleDateString() :\n",
              "                                    'n/a'} - `));\n",
              "    const percent = span('0% done');\n",
              "    li.appendChild(percent);\n",
              "\n",
              "    outputElement.appendChild(li);\n",
              "\n",
              "    const fileDataPromise = new Promise((resolve) => {\n",
              "      const reader = new FileReader();\n",
              "      reader.onload = (e) => {\n",
              "        resolve(e.target.result);\n",
              "      };\n",
              "      reader.readAsArrayBuffer(file);\n",
              "    });\n",
              "    // Wait for the data to be ready.\n",
              "    let fileData = yield {\n",
              "      promise: fileDataPromise,\n",
              "      response: {\n",
              "        action: 'continue',\n",
              "      }\n",
              "    };\n",
              "\n",
              "    // Use a chunked sending to avoid message size limits. See b/62115660.\n",
              "    let position = 0;\n",
              "    do {\n",
              "      const length = Math.min(fileData.byteLength - position, MAX_PAYLOAD_SIZE);\n",
              "      const chunk = new Uint8Array(fileData, position, length);\n",
              "      position += length;\n",
              "\n",
              "      const base64 = btoa(String.fromCharCode.apply(null, chunk));\n",
              "      yield {\n",
              "        response: {\n",
              "          action: 'append',\n",
              "          file: file.name,\n",
              "          data: base64,\n",
              "        },\n",
              "      };\n",
              "\n",
              "      let percentDone = fileData.byteLength === 0 ?\n",
              "          100 :\n",
              "          Math.round((position / fileData.byteLength) * 100);\n",
              "      percent.textContent = `${percentDone}% done`;\n",
              "\n",
              "    } while (position < fileData.byteLength);\n",
              "  }\n",
              "\n",
              "  // All done.\n",
              "  yield {\n",
              "    response: {\n",
              "      action: 'complete',\n",
              "    }\n",
              "  };\n",
              "}\n",
              "\n",
              "scope.google = scope.google || {};\n",
              "scope.google.colab = scope.google.colab || {};\n",
              "scope.google.colab._files = {\n",
              "  _uploadFiles,\n",
              "  _uploadFilesContinue,\n",
              "};\n",
              "})(self);\n",
              "</script> "
            ]
          },
          "metadata": {}
        },
        {
          "output_type": "error",
          "ename": "KeyboardInterrupt",
          "evalue": "",
          "traceback": [
            "\u001b[0;31m---------------------------------------------------------------------------\u001b[0m",
            "\u001b[0;31mKeyboardInterrupt\u001b[0m                         Traceback (most recent call last)",
            "\u001b[0;32m/tmp/ipython-input-1259735813.py\u001b[0m in \u001b[0;36m<cell line: 0>\u001b[0;34m()\u001b[0m\n\u001b[1;32m      1\u001b[0m \u001b[0;31m# 1. Upload image\u001b[0m\u001b[0;34m\u001b[0m\u001b[0;34m\u001b[0m\u001b[0m\n\u001b[1;32m      2\u001b[0m \u001b[0;32mfrom\u001b[0m \u001b[0mgoogle\u001b[0m\u001b[0;34m.\u001b[0m\u001b[0mcolab\u001b[0m \u001b[0;32mimport\u001b[0m \u001b[0mfiles\u001b[0m\u001b[0;34m\u001b[0m\u001b[0;34m\u001b[0m\u001b[0m\n\u001b[0;32m----> 3\u001b[0;31m \u001b[0muploaded\u001b[0m \u001b[0;34m=\u001b[0m \u001b[0mfiles\u001b[0m\u001b[0;34m.\u001b[0m\u001b[0mupload\u001b[0m\u001b[0;34m(\u001b[0m\u001b[0;34m)\u001b[0m  \u001b[0;31m# This prompts you to choose a file\u001b[0m\u001b[0;34m\u001b[0m\u001b[0;34m\u001b[0m\u001b[0m\n\u001b[0m\u001b[1;32m      4\u001b[0m \u001b[0;34m\u001b[0m\u001b[0m\n\u001b[1;32m      5\u001b[0m \u001b[0;32mimport\u001b[0m \u001b[0mcv2\u001b[0m\u001b[0;34m\u001b[0m\u001b[0;34m\u001b[0m\u001b[0m\n",
            "\u001b[0;32m/usr/local/lib/python3.12/dist-packages/google/colab/files.py\u001b[0m in \u001b[0;36mupload\u001b[0;34m(target_dir)\u001b[0m\n\u001b[1;32m     70\u001b[0m   \"\"\"\n\u001b[1;32m     71\u001b[0m \u001b[0;34m\u001b[0m\u001b[0m\n\u001b[0;32m---> 72\u001b[0;31m   \u001b[0muploaded_files\u001b[0m \u001b[0;34m=\u001b[0m \u001b[0m_upload_files\u001b[0m\u001b[0;34m(\u001b[0m\u001b[0mmultiple\u001b[0m\u001b[0;34m=\u001b[0m\u001b[0;32mTrue\u001b[0m\u001b[0;34m)\u001b[0m\u001b[0;34m\u001b[0m\u001b[0;34m\u001b[0m\u001b[0m\n\u001b[0m\u001b[1;32m     73\u001b[0m   \u001b[0;31m# Mapping from original filename to filename as saved locally.\u001b[0m\u001b[0;34m\u001b[0m\u001b[0;34m\u001b[0m\u001b[0m\n\u001b[1;32m     74\u001b[0m   \u001b[0mlocal_filenames\u001b[0m \u001b[0;34m=\u001b[0m \u001b[0mdict\u001b[0m\u001b[0;34m(\u001b[0m\u001b[0;34m)\u001b[0m\u001b[0;34m\u001b[0m\u001b[0;34m\u001b[0m\u001b[0m\n",
            "\u001b[0;32m/usr/local/lib/python3.12/dist-packages/google/colab/files.py\u001b[0m in \u001b[0;36m_upload_files\u001b[0;34m(multiple)\u001b[0m\n\u001b[1;32m    162\u001b[0m \u001b[0;34m\u001b[0m\u001b[0m\n\u001b[1;32m    163\u001b[0m   \u001b[0;31m# First result is always an indication that the file picker has completed.\u001b[0m\u001b[0;34m\u001b[0m\u001b[0;34m\u001b[0m\u001b[0m\n\u001b[0;32m--> 164\u001b[0;31m   result = _output.eval_js(\n\u001b[0m\u001b[1;32m    165\u001b[0m       'google.colab._files._uploadFiles(\"{input_id}\", \"{output_id}\")'.format(\n\u001b[1;32m    166\u001b[0m           \u001b[0minput_id\u001b[0m\u001b[0;34m=\u001b[0m\u001b[0minput_id\u001b[0m\u001b[0;34m,\u001b[0m \u001b[0moutput_id\u001b[0m\u001b[0;34m=\u001b[0m\u001b[0moutput_id\u001b[0m\u001b[0;34m\u001b[0m\u001b[0;34m\u001b[0m\u001b[0m\n",
            "\u001b[0;32m/usr/local/lib/python3.12/dist-packages/google/colab/output/_js.py\u001b[0m in \u001b[0;36meval_js\u001b[0;34m(script, ignore_result, timeout_sec)\u001b[0m\n\u001b[1;32m     38\u001b[0m   \u001b[0;32mif\u001b[0m \u001b[0mignore_result\u001b[0m\u001b[0;34m:\u001b[0m\u001b[0;34m\u001b[0m\u001b[0;34m\u001b[0m\u001b[0m\n\u001b[1;32m     39\u001b[0m     \u001b[0;32mreturn\u001b[0m\u001b[0;34m\u001b[0m\u001b[0;34m\u001b[0m\u001b[0m\n\u001b[0;32m---> 40\u001b[0;31m   \u001b[0;32mreturn\u001b[0m \u001b[0m_message\u001b[0m\u001b[0;34m.\u001b[0m\u001b[0mread_reply_from_input\u001b[0m\u001b[0;34m(\u001b[0m\u001b[0mrequest_id\u001b[0m\u001b[0;34m,\u001b[0m \u001b[0mtimeout_sec\u001b[0m\u001b[0;34m)\u001b[0m\u001b[0;34m\u001b[0m\u001b[0;34m\u001b[0m\u001b[0m\n\u001b[0m\u001b[1;32m     41\u001b[0m \u001b[0;34m\u001b[0m\u001b[0m\n\u001b[1;32m     42\u001b[0m \u001b[0;34m\u001b[0m\u001b[0m\n",
            "\u001b[0;32m/usr/local/lib/python3.12/dist-packages/google/colab/_message.py\u001b[0m in \u001b[0;36mread_reply_from_input\u001b[0;34m(message_id, timeout_sec)\u001b[0m\n\u001b[1;32m     94\u001b[0m     \u001b[0mreply\u001b[0m \u001b[0;34m=\u001b[0m \u001b[0m_read_next_input_message\u001b[0m\u001b[0;34m(\u001b[0m\u001b[0;34m)\u001b[0m\u001b[0;34m\u001b[0m\u001b[0;34m\u001b[0m\u001b[0m\n\u001b[1;32m     95\u001b[0m     \u001b[0;32mif\u001b[0m \u001b[0mreply\u001b[0m \u001b[0;34m==\u001b[0m \u001b[0m_NOT_READY\u001b[0m \u001b[0;32mor\u001b[0m \u001b[0;32mnot\u001b[0m \u001b[0misinstance\u001b[0m\u001b[0;34m(\u001b[0m\u001b[0mreply\u001b[0m\u001b[0;34m,\u001b[0m \u001b[0mdict\u001b[0m\u001b[0;34m)\u001b[0m\u001b[0;34m:\u001b[0m\u001b[0;34m\u001b[0m\u001b[0;34m\u001b[0m\u001b[0m\n\u001b[0;32m---> 96\u001b[0;31m       \u001b[0mtime\u001b[0m\u001b[0;34m.\u001b[0m\u001b[0msleep\u001b[0m\u001b[0;34m(\u001b[0m\u001b[0;36m0.025\u001b[0m\u001b[0;34m)\u001b[0m\u001b[0;34m\u001b[0m\u001b[0;34m\u001b[0m\u001b[0m\n\u001b[0m\u001b[1;32m     97\u001b[0m       \u001b[0;32mcontinue\u001b[0m\u001b[0;34m\u001b[0m\u001b[0;34m\u001b[0m\u001b[0m\n\u001b[1;32m     98\u001b[0m     if (\n",
            "\u001b[0;31mKeyboardInterrupt\u001b[0m: "
          ]
        }
      ]
    },
    {
      "cell_type": "code",
      "source": [
        "from google.colab import files\n",
        "files.download(model_save_path)"
      ],
      "metadata": {
        "id": "Dfcz9f2A4NDP"
      },
      "execution_count": null,
      "outputs": []
    }
  ]
}