{
  "nbformat": 4,
  "nbformat_minor": 0,
  "metadata": {
    "colab": {
      "provenance": [],
      "authorship_tag": "ABX9TyO5LtNZXlsHC+vYx83Q4DOG",
      "include_colab_link": true
    },
    "kernelspec": {
      "name": "python3",
      "display_name": "Python 3"
    },
    "language_info": {
      "name": "python"
    }
  },
  "cells": [
    {
      "cell_type": "markdown",
      "metadata": {
        "id": "view-in-github",
        "colab_type": "text"
      },
      "source": [
        "<a href=\"https://colab.research.google.com/github/Raashidh-Rizvi/BrainTumor/blob/main/MLPBrainTumor.ipynb\" target=\"_parent\"><img src=\"https://colab.research.google.com/assets/colab-badge.svg\" alt=\"Open In Colab\"/></a>"
      ]
    },
    {
      "cell_type": "code",
      "source": [
        "!git clone https://github.com/Raashidh-Rizvi/Brain-Tumor-Detection.git"
      ],
      "metadata": {
        "colab": {
          "base_uri": "https://localhost:8080/"
        },
        "id": "6nSWjtG6n3fw",
        "outputId": "2271be16-15d0-495d-b30f-2a25b610cfc2"
      },
      "execution_count": 1,
      "outputs": [
        {
          "output_type": "stream",
          "name": "stdout",
          "text": [
            "fatal: destination path 'Brain-Tumor-Detection' already exists and is not an empty directory.\n"
          ]
        }
      ]
    },
    {
      "cell_type": "code",
      "metadata": {
        "colab": {
          "base_uri": "https://localhost:8080/"
        },
        "id": "852402ec",
        "outputId": "ec26d442-229a-423b-f519-ff862312e9e0"
      },
      "source": [
        "!pip install --upgrade scikit-learn"
      ],
      "execution_count": 2,
      "outputs": [
        {
          "output_type": "stream",
          "name": "stdout",
          "text": [
            "Requirement already satisfied: scikit-learn in /usr/local/lib/python3.12/dist-packages (1.7.2)\n",
            "Requirement already satisfied: numpy>=1.22.0 in /usr/local/lib/python3.12/dist-packages (from scikit-learn) (2.0.2)\n",
            "Requirement already satisfied: scipy>=1.8.0 in /usr/local/lib/python3.12/dist-packages (from scikit-learn) (1.16.2)\n",
            "Requirement already satisfied: joblib>=1.2.0 in /usr/local/lib/python3.12/dist-packages (from scikit-learn) (1.5.2)\n",
            "Requirement already satisfied: threadpoolctl>=3.1.0 in /usr/local/lib/python3.12/dist-packages (from scikit-learn) (3.6.0)\n"
          ]
        }
      ]
    },
    {
      "cell_type": "code",
      "metadata": {
        "colab": {
          "base_uri": "https://localhost:8080/"
        },
        "id": "52335dc7",
        "outputId": "7bcc04a7-b512-4e07-a5fa-e30e1bf2bf1e"
      },
      "source": [
        "!pip install scikeras"
      ],
      "execution_count": 3,
      "outputs": [
        {
          "output_type": "stream",
          "name": "stdout",
          "text": [
            "Requirement already satisfied: scikeras in /usr/local/lib/python3.12/dist-packages (0.13.0)\n",
            "Requirement already satisfied: keras>=3.2.0 in /usr/local/lib/python3.12/dist-packages (from scikeras) (3.10.0)\n",
            "Requirement already satisfied: scikit-learn>=1.4.2 in /usr/local/lib/python3.12/dist-packages (from scikeras) (1.7.2)\n",
            "Requirement already satisfied: absl-py in /usr/local/lib/python3.12/dist-packages (from keras>=3.2.0->scikeras) (1.4.0)\n",
            "Requirement already satisfied: numpy in /usr/local/lib/python3.12/dist-packages (from keras>=3.2.0->scikeras) (2.0.2)\n",
            "Requirement already satisfied: rich in /usr/local/lib/python3.12/dist-packages (from keras>=3.2.0->scikeras) (13.9.4)\n",
            "Requirement already satisfied: namex in /usr/local/lib/python3.12/dist-packages (from keras>=3.2.0->scikeras) (0.1.0)\n",
            "Requirement already satisfied: h5py in /usr/local/lib/python3.12/dist-packages (from keras>=3.2.0->scikeras) (3.15.0)\n",
            "Requirement already satisfied: optree in /usr/local/lib/python3.12/dist-packages (from keras>=3.2.0->scikeras) (0.17.0)\n",
            "Requirement already satisfied: ml-dtypes in /usr/local/lib/python3.12/dist-packages (from keras>=3.2.0->scikeras) (0.5.3)\n",
            "Requirement already satisfied: packaging in /usr/local/lib/python3.12/dist-packages (from keras>=3.2.0->scikeras) (25.0)\n",
            "Requirement already satisfied: scipy>=1.8.0 in /usr/local/lib/python3.12/dist-packages (from scikit-learn>=1.4.2->scikeras) (1.16.2)\n",
            "Requirement already satisfied: joblib>=1.2.0 in /usr/local/lib/python3.12/dist-packages (from scikit-learn>=1.4.2->scikeras) (1.5.2)\n",
            "Requirement already satisfied: threadpoolctl>=3.1.0 in /usr/local/lib/python3.12/dist-packages (from scikit-learn>=1.4.2->scikeras) (3.6.0)\n",
            "Requirement already satisfied: typing-extensions>=4.6.0 in /usr/local/lib/python3.12/dist-packages (from optree->keras>=3.2.0->scikeras) (4.15.0)\n",
            "Requirement already satisfied: markdown-it-py>=2.2.0 in /usr/local/lib/python3.12/dist-packages (from rich->keras>=3.2.0->scikeras) (4.0.0)\n",
            "Requirement already satisfied: pygments<3.0.0,>=2.13.0 in /usr/local/lib/python3.12/dist-packages (from rich->keras>=3.2.0->scikeras) (2.19.2)\n",
            "Requirement already satisfied: mdurl~=0.1 in /usr/local/lib/python3.12/dist-packages (from markdown-it-py>=2.2.0->rich->keras>=3.2.0->scikeras) (0.1.2)\n"
          ]
        }
      ]
    },
    {
      "cell_type": "code",
      "execution_count": 4,
      "metadata": {
        "colab": {
          "base_uri": "https://localhost:8080/"
        },
        "id": "OP_bDnh0OkLO",
        "outputId": "aa8a8ae3-ef64-4d21-8039-0cec85d5eee5"
      },
      "outputs": [
        {
          "output_type": "stream",
          "name": "stdout",
          "text": [
            "fatal: destination path 'Brain-Tumor-Detection' already exists and is not an empty directory.\n"
          ]
        },
        {
          "output_type": "stream",
          "name": "stderr",
          "text": [
            "Processing train/notumor: 100%|██████████| 1595/1595 [00:02<00:00, 575.01it/s]\n",
            "Processing train/glioma: 100%|██████████| 1321/1321 [00:04<00:00, 328.19it/s]\n",
            "Processing train/meningioma: 100%|██████████| 1339/1339 [00:03<00:00, 404.52it/s]\n",
            "Processing train/pituitary: 100%|██████████| 1457/1457 [00:03<00:00, 443.90it/s]\n",
            "Processing test/notumor: 100%|██████████| 405/405 [00:00<00:00, 909.04it/s]\n",
            "Processing test/glioma: 100%|██████████| 300/300 [00:00<00:00, 485.45it/s]\n",
            "Processing test/meningioma: 100%|██████████| 306/306 [00:00<00:00, 430.82it/s]\n",
            "Processing test/pituitary: 100%|██████████| 300/300 [00:01<00:00, 198.85it/s]"
          ]
        },
        {
          "output_type": "stream",
          "name": "stdout",
          "text": [
            "Preprocessing and saving done!\n"
          ]
        },
        {
          "output_type": "stream",
          "name": "stderr",
          "text": [
            "\n"
          ]
        }
      ],
      "source": [
        "import os\n",
        "import cv2\n",
        "from tqdm import tqdm\n",
        "\n",
        "\n",
        "!git clone https://github.com/Raashidh-Rizvi/Brain-Tumor-Detection.git\n",
        "\n",
        "# Step 2: Define Dataset Paths\n",
        "\n",
        "# Parameters\n",
        "img_size = 64\n",
        "input_base_dirs = {\n",
        "    \"train\": \"/content/Brain-Tumor-Detection/data/Training\",\n",
        "    \"test\": \"/content/Brain-Tumor-Detection/data/Testing\"\n",
        "}\n",
        "output_base_dir = \"/content/Brain-Tumor-Detection/data/preprocessed_data/preprocessedForMLP\"\n",
        "\n",
        "# Make sure the output folders exist\n",
        "for split in input_base_dirs:\n",
        "    # Ensure the input directory exists before listing its contents\n",
        "    if not os.path.exists(input_base_dirs[split]):\n",
        "        print(f\"Input directory not found: {input_base_dirs[split]}\")\n",
        "        continue # Skip to the next split if directory is not found\n",
        "\n",
        "    for class_name in os.listdir(input_base_dirs[split]):\n",
        "        in_class_dir = os.path.join(input_base_dirs[split], class_name)\n",
        "        out_class_dir = os.path.join(output_base_dir, split, class_name)\n",
        "        os.makedirs(out_class_dir, exist_ok=True)\n",
        "\n",
        "        # List all image files\n",
        "        img_files = [\n",
        "            f for f in os.listdir(in_class_dir)\n",
        "            if f.lower().endswith(('.png', '.jpg', '.jpeg'))\n",
        "        ]\n",
        "        for img_file in tqdm(img_files, desc=f\"Processing {split}/{class_name}\"):\n",
        "            img_path = os.path.join(in_class_dir, img_file)\n",
        "            out_path = os.path.join(out_class_dir, img_file.replace('.jpg', '.png').replace('.jpeg', '.png'))\n",
        "\n",
        "            # Read, preprocess, and save\n",
        "            img = cv2.imread(img_path, cv2.IMREAD_GRAYSCALE)\n",
        "            img = cv2.resize(img, (img_size, img_size))\n",
        "            img = img / 255.0  # Normalize\n",
        "            img = (img * 255).astype('uint8')  # Convert back to 0-255 for saving as image\n",
        "\n",
        "            cv2.imwrite(out_path, img)\n",
        "\n",
        "print(\"Preprocessing and saving done!\")"
      ]
    },
    {
      "cell_type": "code",
      "source": [
        "import os\n",
        "import cv2\n",
        "import numpy as np\n",
        "\n",
        "# 1. DATA PREPROCESSING: Load images, flatten, save as numpy arrays\n",
        "img_size = 64\n",
        "input_dirs = {\n",
        "    \"train\": \"/content/Brain-Tumor-Detection/data/preprocessed_data/preprocessedForMLP/train\",\n",
        "    \"test\": \"/content/Brain-Tumor-Detection/data/preprocessed_data/preprocessedForMLP/test\"\n",
        "}\n",
        "output_dir = \"/content/Brain-Tumor-Detection/data/preprocessed_data/preprocessedForMLP_numpy\"\n",
        "os.makedirs(output_dir, exist_ok=True)\n",
        "\n",
        "for split in input_dirs:\n",
        "    all_images = []\n",
        "    all_labels = []\n",
        "    class_names = sorted([\n",
        "        d for d in os.listdir(input_dirs[split])\n",
        "        if os.path.isdir(os.path.join(input_dirs[split], d))\n",
        "    ])\n",
        "    for idx, class_name in enumerate(class_names):\n",
        "        class_dir = os.path.join(input_dirs[split], class_name)\n",
        "        for img_file in os.listdir(class_dir):\n",
        "            if img_file.lower().endswith(('.png', '.jpg', '.jpeg')):\n",
        "                img_path = os.path.join(class_dir, img_file)\n",
        "                img = cv2.imread(img_path, cv2.IMREAD_GRAYSCALE)\n",
        "                img = cv2.resize(img, (img_size, img_size))\n",
        "                img = img / 255.0\n",
        "                img_flat = img.flatten()\n",
        "                all_images.append(img_flat)\n",
        "                all_labels.append(idx)\n",
        "    # Save as numpy arrays\n",
        "    X_path = os.path.join(output_dir, f\"X_{split}.npy\")\n",
        "    y_path = os.path.join(output_dir, f\"y_{split}.npy\")\n",
        "    np.save(X_path, np.array(all_images))\n",
        "    np.save(y_path, np.array(all_labels))\n",
        "    print(f\"Saved {split} split: {X_path}, {y_path}\")\n",
        "\n",
        "print(f\"Files in output_dir ({output_dir}):\", os.listdir(output_dir))"
      ],
      "metadata": {
        "colab": {
          "base_uri": "https://localhost:8080/"
        },
        "id": "w8GPdyU6rouY",
        "outputId": "4b3ac693-ca56-4347-84d8-a1c107b44a50"
      },
      "execution_count": 5,
      "outputs": [
        {
          "output_type": "stream",
          "name": "stdout",
          "text": [
            "Saved train split: /content/Brain-Tumor-Detection/data/preprocessed_data/preprocessedForMLP_numpy/X_train.npy, /content/Brain-Tumor-Detection/data/preprocessed_data/preprocessedForMLP_numpy/y_train.npy\n",
            "Saved test split: /content/Brain-Tumor-Detection/data/preprocessed_data/preprocessedForMLP_numpy/X_test.npy, /content/Brain-Tumor-Detection/data/preprocessed_data/preprocessedForMLP_numpy/y_test.npy\n",
            "Files in output_dir (/content/Brain-Tumor-Detection/data/preprocessed_data/preprocessedForMLP_numpy): ['y_test.npy', 'X_test.npy', 'y_train.npy', 'X_train.npy']\n"
          ]
        }
      ]
    },
    {
      "cell_type": "code",
      "source": [
        "# 2. LOAD PREPROCESSED DATA with robust file existence check\n",
        "def load_array(path):\n",
        "    if not os.path.exists(path):\n",
        "        raise FileNotFoundError(f\"File not found: {path}\")\n",
        "    return np.load(path)\n",
        "\n",
        "X_train_path = os.path.join(output_dir, 'X_train.npy')\n",
        "y_train_path = os.path.join(output_dir, 'y_train.npy')\n",
        "X_test_path = os.path.join(output_dir, 'X_test.npy')\n",
        "y_test_path = os.path.join(output_dir, 'y_test.npy')\n",
        "\n",
        "print(\"Checking files before loading...\")\n",
        "for path in [X_train_path, y_train_path, X_test_path, y_test_path]:\n",
        "    print(f\"{path}: {'Found' if os.path.exists(path) else 'Missing'}\")\n",
        "\n",
        "X = load_array(X_train_path)\n",
        "y = load_array(y_train_path)\n",
        "X_test = load_array(X_test_path)\n",
        "y_test = load_array(y_test_path)\n"
      ],
      "metadata": {
        "colab": {
          "base_uri": "https://localhost:8080/"
        },
        "id": "mtNVHh_Drp7-",
        "outputId": "e00651c5-a09e-4c98-86ed-71b4675cc59e"
      },
      "execution_count": 6,
      "outputs": [
        {
          "output_type": "stream",
          "name": "stdout",
          "text": [
            "Checking files before loading...\n",
            "/content/Brain-Tumor-Detection/data/preprocessed_data/preprocessedForMLP_numpy/X_train.npy: Found\n",
            "/content/Brain-Tumor-Detection/data/preprocessed_data/preprocessedForMLP_numpy/y_train.npy: Found\n",
            "/content/Brain-Tumor-Detection/data/preprocessed_data/preprocessedForMLP_numpy/X_test.npy: Found\n",
            "/content/Brain-Tumor-Detection/data/preprocessed_data/preprocessedForMLP_numpy/y_test.npy: Found\n"
          ]
        }
      ]
    },
    {
      "cell_type": "code",
      "source": [
        "# 3. Train/validation split for parameter tuning\n",
        "from sklearn.model_selection import train_test_split\n",
        "X_train, X_val, y_train, y_val = train_test_split(X, y, test_size=0.2, random_state=42, stratify=y)\n",
        "\n",
        "# 4. PARAMETER TUNING WITH GridSearchCV\n",
        "from scikeras.wrappers import KerasClassifier\n",
        "from tensorflow.keras.models import Sequential\n",
        "from tensorflow.keras.layers import Dense, Dropout\n",
        "from tensorflow.keras.optimizers import Adam\n",
        "from sklearn.model_selection import GridSearchCV\n",
        "\n",
        "def build_model(hidden_units=128, dropout_rate=0.0, learning_rate=0.001):\n",
        "    model = Sequential([\n",
        "        Dense(hidden_units, activation='relu', input_shape=(X_train.shape[1],)),\n",
        "        Dropout(dropout_rate),\n",
        "        Dense(64, activation='relu'),\n",
        "        Dense(4, activation='softmax')\n",
        "    ])\n",
        "    model.compile(\n",
        "        loss='sparse_categorical_crossentropy',\n",
        "        optimizer=Adam(learning_rate=learning_rate),\n",
        "        metrics=['accuracy']\n",
        "    )\n",
        "    return model\n",
        "\n",
        "clf = KerasClassifier(model=build_model, verbose=0)\n",
        "param_grid = {\n",
        "    \"model__hidden_units\": [64, 128, 256],\n",
        "    \"model__dropout_rate\": [0.0, 0.3],\n",
        "    \"model__learning_rate\": [0.001, 0.0005],\n",
        "    \"batch_size\": [32, 64],\n",
        "    \"epochs\": [15, 25]\n",
        "}\n",
        "grid = GridSearchCV(estimator=clf, param_grid=param_grid, cv=3, scoring=\"accuracy\", n_jobs=-1)\n",
        "grid_result = grid.fit(X_train, y_train)"
      ],
      "metadata": {
        "colab": {
          "base_uri": "https://localhost:8080/"
        },
        "id": "mCRevRxPrtVr",
        "outputId": "67ad0943-7d20-43ac-ba51-6a4117be8efb"
      },
      "execution_count": 7,
      "outputs": [
        {
          "output_type": "stream",
          "name": "stderr",
          "text": [
            "/usr/local/lib/python3.12/dist-packages/joblib/externals/loky/process_executor.py:782: UserWarning: A worker stopped while some jobs were given to the executor. This can be caused by a too short worker timeout or by a memory leak.\n",
            "  warnings.warn(\n",
            "/usr/local/lib/python3.12/dist-packages/keras/src/layers/core/dense.py:93: UserWarning: Do not pass an `input_shape`/`input_dim` argument to a layer. When using Sequential models, prefer using an `Input(shape)` object as the first layer in the model instead.\n",
            "  super().__init__(activity_regularizer=activity_regularizer, **kwargs)\n"
          ]
        }
      ]
    },
    {
      "cell_type": "code",
      "source": [
        "# 5. REPORT BEST PARAMETERS\n",
        "print(f\"\\nBest Parameters: {grid_result.best_params_}\")\n",
        "print(f\"Best CV Accuracy: {grid_result.best_score_:.4f}\")\n",
        "\n",
        "# 6. TRAIN FINAL MODEL & EVALUATE (test set)\n",
        "best_model = grid_result.best_estimator_\n",
        "y_pred_prob = best_model.predict_proba(X_test)\n",
        "y_pred = np.argmax(y_pred_prob, axis=1)\n",
        "\n",
        "class_names = ['glioma', 'meningioma', 'notumor', 'pituitary']\n"
      ],
      "metadata": {
        "colab": {
          "base_uri": "https://localhost:8080/"
        },
        "id": "HfNRbPq4rwYJ",
        "outputId": "fb588b45-f47d-4ad9-be47-37787e62b895"
      },
      "execution_count": 8,
      "outputs": [
        {
          "output_type": "stream",
          "name": "stdout",
          "text": [
            "\n",
            "Best Parameters: {'batch_size': 32, 'epochs': 25, 'model__dropout_rate': 0.0, 'model__hidden_units': 128, 'model__learning_rate': 0.001}\n",
            "Best CV Accuracy: 0.8777\n"
          ]
        }
      ]
    },
    {
      "cell_type": "code",
      "metadata": {
        "colab": {
          "base_uri": "https://localhost:8080/",
          "height": 1000
        },
        "id": "af94a412",
        "outputId": "acc5ce6f-a37f-4fc3-84fe-279474011841"
      },
      "source": [
        "\n",
        "\n",
        "# 7. EVALUATION METRICS & VISUALIZATION\n",
        "import matplotlib.pyplot as plt\n",
        "import seaborn as sns\n",
        "from sklearn.metrics import confusion_matrix, classification_report, f1_score, precision_score, recall_score, roc_auc_score\n",
        "\n",
        "# Confusion Matrix\n",
        "cm = confusion_matrix(y_test, y_pred)\n",
        "plt.figure(figsize=(8,6))\n",
        "sns.heatmap(cm, annot=True, fmt=\"d\", cmap=\"Blues\", xticklabels=class_names, yticklabels=class_names)\n",
        "plt.xlabel('Predicted Label')\n",
        "plt.ylabel('True Label')\n",
        "plt.title('Confusion Matrix')\n",
        "plt.show()\n",
        "\n",
        "# Classification Report\n",
        "report = classification_report(y_test, y_pred, target_names=class_names, digits=3)\n",
        "print(\"\\nClassification Report:\\n\", report)\n",
        "\n",
        "# Macro metrics\n",
        "f1_macro = f1_score(y_test, y_pred, average='macro')\n",
        "precision_macro = precision_score(y_test, y_pred, average='macro')\n",
        "recall_macro = recall_score(y_test, y_pred, average='macro')\n",
        "print(f\"Macro F1 Score: {f1_macro:.3f}\")\n",
        "print(f\"Macro Precision: {precision_macro:.3f}\")\n",
        "print(f\"Macro Recall: {recall_macro:.3f}\")\n",
        "\n",
        "# Per-class F1 bar graph\n",
        "f1_per_class = f1_score(y_test, y_pred, average=None)\n",
        "plt.figure(figsize=(7,4))\n",
        "plt.bar(class_names, f1_per_class, color='skyblue')\n",
        "plt.ylim(0, 1.05)\n",
        "plt.title('Per-Class F1 Scores')\n",
        "plt.ylabel('F1 Score')\n",
        "plt.xlabel('Tumor Type')\n",
        "for i, v in enumerate(f1_per_class):\n",
        "    plt.text(i, v + 0.02, f\"{v:.2f}\", ha='center', fontweight='bold')\n",
        "plt.show()\n",
        "\n",
        "# Optionally, ROC AUC for multiclass (one-vs-rest)\n",
        "try:\n",
        "    roc_auc = roc_auc_score(np.eye(4)[y_test], y_pred_prob, average='macro', multi_class='ovr')\n",
        "    print(f\"Macro ROC AUC: {roc_auc:.3f}\")\n",
        "except Exception as e:\n",
        "    print(\"ROC AUC not available:\", e)\n",
        "\n",
        "\n",
        "\n"
      ],
      "execution_count": 9,
      "outputs": [
        {
          "output_type": "display_data",
          "data": {
            "text/plain": [
              "<Figure size 800x600 with 2 Axes>"
            ],
            "image/png": "[encoded data removed]"
          },
          "metadata": {}
        },
        {
          "output_type": "stream",
          "name": "stdout",
          "text": [
            "\n",
            "Classification Report:\n",
            "               precision    recall  f1-score   support\n",
            "\n",
            "      glioma      0.856     0.813     0.834       300\n",
            "  meningioma      0.820     0.758     0.788       306\n",
            "     notumor      0.933     0.990     0.960       405\n",
            "   pituitary      0.939     0.980     0.959       300\n",
            "\n",
            "    accuracy                          0.893      1311\n",
            "   macro avg      0.887     0.885     0.885      1311\n",
            "weighted avg      0.890     0.893     0.891      1311\n",
            "\n",
            "Macro F1 Score: 0.885\n",
            "Macro Precision: 0.887\n",
            "Macro Recall: 0.885\n"
          ]
        },
        {
          "output_type": "display_data",
          "data": {
            "text/plain": [
              "<Figure size 700x400 with 1 Axes>"
            ],
            "image/png": "[encoded data removed]"
          },
          "metadata": {}
        },
        {
          "output_type": "stream",
          "name": "stderr",
          "text": [
            "WARNING:absl:You are saving your model as an HDF5 file via `model.save()` or `keras.saving.save_model(model)`. This file format is considered legacy. We recommend using instead the native Keras format, e.g. `model.save('my_model.keras')` or `keras.saving.save_model(model, 'my_model.keras')`. \n"
          ]
        },
        {
          "output_type": "stream",
          "name": "stdout",
          "text": [
            "Macro ROC AUC: 0.976\n",
            "Best model saved at /content/Brain-Tumor-Detection/data/preprocessed_data/preprocessedForMLP_numpy/brain_tumor_mlp_best.h5\n"
          ]
        },
        {
          "output_type": "stream",
          "name": "stderr",
          "text": [
            "/usr/local/lib/python3.12/dist-packages/keras/src/layers/core/dense.py:93: UserWarning: Do not pass an `input_shape`/`input_dim` argument to a layer. When using Sequential models, prefer using an `Input(shape)` object as the first layer in the model instead.\n",
            "  super().__init__(activity_regularizer=activity_regularizer, **kwargs)\n"
          ]
        },
        {
          "output_type": "stream",
          "name": "stdout",
          "text": [
            "\u001b[1m41/41\u001b[0m \u001b[32m━━━━━━━━━━━━━━━━━━━━\u001b[0m\u001b[37m\u001b[0m \u001b[1m0s\u001b[0m 4ms/step\n",
            "\n",
            "Manual Model Accuracy: 0.873\n",
            "Manual Model Macro F1: 0.860\n",
            "GridSearch Best Model Accuracy: 0.893\n",
            "GridSearch Best Model Macro F1: 0.885\n",
            "\n",
            "Observations:\n",
            "- GridSearchCV tuning improved accuracy and F1 over the manual model.\n",
            "- Some classes have lower F1 due to class imbalance/difficult features.\n",
            "\n",
            "Limitations:\n",
            "- MLPs do not exploit spatial information in images as CNNs do.\n",
            "- Performance is limited by available data and class balance.\n",
            "- Improvements: Try CNN, increase data, use more augmentation, tune further, or use ensemble methods.\n",
            "\n"
          ]
        }
      ]
    },
    {
      "cell_type": "code",
      "source": [
        "\n",
        "# 8. SAVE MODEL\n",
        "model_save_path = os.path.join(output_dir, \"brain_tumor_mlp_best.h5\")\n",
        "best_model.model_.save(model_save_path)\n",
        "print(f\"Best model saved at {model_save_path}\")\n"
      ],
      "metadata": {
        "colab": {
          "base_uri": "https://localhost:8080/"
        },
        "id": "Rp9z7VUdsgLw",
        "outputId": "3bfa8334-d077-4185-946b-3a95e5fae5ad"
      },
      "execution_count": 10,
      "outputs": [
        {
          "output_type": "stream",
          "name": "stderr",
          "text": [
            "WARNING:absl:You are saving your model as an HDF5 file via `model.save()` or `keras.saving.save_model(model)`. This file format is considered legacy. We recommend using instead the native Keras format, e.g. `model.save('my_model.keras')` or `keras.saving.save_model(model, 'my_model.keras')`. \n"
          ]
        },
        {
          "output_type": "stream",
          "name": "stdout",
          "text": [
            "Best model saved at /content/Brain-Tumor-Detection/data/preprocessed_data/preprocessedForMLP_numpy/brain_tumor_mlp_best.h5\n"
          ]
        }
      ]
    },
    {
      "cell_type": "code",
      "source": [
        "# 9. COMPARE WITH A MANUAL MODEL\n",
        "manual_model = Sequential([\n",
        "    Dense(128, activation='relu', input_shape=(X_train.shape[1],)),\n",
        "    Dropout(0.3),\n",
        "    Dense(64, activation='relu'),\n",
        "    Dense(4, activation='softmax')\n",
        "])\n",
        "manual_model.compile(loss='sparse_categorical_crossentropy', optimizer=Adam(learning_rate=0.001), metrics=['accuracy'])\n",
        "manual_model.fit(X_train, y_train, epochs=25, batch_size=32, verbose=0)\n",
        "manual_pred = np.argmax(manual_model.predict(X_test), axis=1)\n",
        "manual_acc = np.mean(manual_pred == y_test)\n",
        "manual_f1 = f1_score(y_test, manual_pred, average='macro')\n",
        "\n",
        "print(f\"\\nManual Model Accuracy: {manual_acc:.3f}\")\n",
        "print(f\"Manual Model Macro F1: {manual_f1:.3f}\")\n",
        "print(f\"GridSearch Best Model Accuracy: {np.mean(y_pred == y_test):.3f}\")\n",
        "print(f\"GridSearch Best Model Macro F1: {f1_macro:.3f}\")"
      ],
      "metadata": {
        "colab": {
          "base_uri": "https://localhost:8080/"
        },
        "id": "_Udy3IIuscSX",
        "outputId": "129153ff-51e7-4d8b-a6c3-cf83fc07fa51"
      },
      "execution_count": 11,
      "outputs": [
        {
          "output_type": "stream",
          "name": "stderr",
          "text": [
            "/usr/local/lib/python3.12/dist-packages/keras/src/layers/core/dense.py:93: UserWarning: Do not pass an `input_shape`/`input_dim` argument to a layer. When using Sequential models, prefer using an `Input(shape)` object as the first layer in the model instead.\n",
            "  super().__init__(activity_regularizer=activity_regularizer, **kwargs)\n"
          ]
        },
        {
          "output_type": "stream",
          "name": "stdout",
          "text": [
            "\u001b[1m41/41\u001b[0m \u001b[32m━━━━━━━━━━━━━━━━━━━━\u001b[0m\u001b[37m\u001b[0m \u001b[1m0s\u001b[0m 3ms/step\n",
            "\n",
            "Manual Model Accuracy: 0.893\n",
            "Manual Model Macro F1: 0.883\n",
            "GridSearch Best Model Accuracy: 0.893\n",
            "GridSearch Best Model Macro F1: 0.885\n"
          ]
        }
      ]
    },
    {
      "cell_type": "markdown",
      "source": [
        "# 10. OBSERVATIONS, LIMITATIONS, IMPROVEMENTS\n",
        "\n",
        "Observations:\n",
        "- GridSearchCV tuning improved accuracy and F1 over the manual model.\n",
        "- Some classes have lower F1 due to class imbalance/difficult features.\n",
        "\n",
        "Limitations:\n",
        "- MLPs do not exploit spatial information in images as CNNs do.\n",
        "- Performance is limited by available data and class balance.\n",
        "- Improvements: Try CNN, increase data, use more augmentation, tune further, or use ensemble methods.\n"
      ],
      "metadata": {
        "id": "3bo1rR8MsV-F"
      }
    },
    {
      "cell_type": "code",
      "source": [
        "# 1. Upload image\n",
        "from google.colab import files\n",
        "uploaded = files.upload()  # This prompts you to choose a file\n",
        "\n",
        "import cv2\n",
        "import numpy as np\n",
        "\n",
        "# 2. Preprocess the uploaded image\n",
        "img_size = 64\n",
        "for img_name in uploaded.keys():\n",
        "    img = cv2.imread(img_name, cv2.IMREAD_GRAYSCALE)\n",
        "    img = cv2.resize(img, (img_size, img_size))\n",
        "    img = img / 255.0\n",
        "    img_flat = img.flatten().reshape(1, -1)\n",
        "\n",
        "    # 3. Load your trained model\n",
        "    from tensorflow.keras.models import load_model\n",
        "    model = load_model(\"/content/Brain-Tumor-Detection/data/preprocessed_data/preprocessedForMLP_numpy/brain_tumor_mlp_best.h5\")\n",
        "\n",
        "    # 4. Predict\n",
        "    pred = model.predict(img_flat)\n",
        "    class_names = ['glioma', 'meningioma', 'notumor', 'pituitary']\n",
        "    predicted_class = class_names[np.argmax(pred)]\n",
        "    print(f\"Prediction for {img_name}: {predicted_class}, Probabilities: {pred}\")"
      ],
      "metadata": {
        "id": "xUxP7FzytHVl"
      },
      "execution_count": null,
      "outputs": []
    }
  ]
}